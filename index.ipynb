{
 "cells": [
  {
   "cell_type": "code",
   "execution_count": 1,
   "metadata": {},
   "outputs": [
    {
     "name": "stdout",
     "output_type": "stream",
     "text": [
      "Requirement already satisfied: flask in /home/aman/.local/lib/python3.8/site-packages (1.1.2)\n",
      "Requirement already satisfied: itsdangerous>=0.24 in /home/aman/.local/lib/python3.8/site-packages (from flask) (1.1.0)\n",
      "Requirement already satisfied: Jinja2>=2.10.1 in /home/aman/.local/lib/python3.8/site-packages (from flask) (2.11.2)\n",
      "Requirement already satisfied: click>=5.1 in /home/aman/.local/lib/python3.8/site-packages (from flask) (7.1.2)\n",
      "Requirement already satisfied: Werkzeug>=0.15 in /home/aman/.local/lib/python3.8/site-packages (from flask) (1.0.1)\n",
      "Requirement already satisfied: MarkupSafe>=0.23 in /usr/lib/python3/dist-packages (from Jinja2>=2.10.1->flask) (1.1.0)\n",
      "Requirement already satisfied: pandas in /home/aman/.local/lib/python3.8/site-packages (1.1.0)\n",
      "Requirement already satisfied: numpy>=1.15.4 in /usr/lib/python3/dist-packages (from pandas) (1.17.4)\n",
      "Requirement already satisfied: python-dateutil>=2.7.3 in /usr/lib/python3/dist-packages (from pandas) (2.7.3)\n",
      "Requirement already satisfied: pytz>=2017.2 in /usr/lib/python3/dist-packages (from pandas) (2019.3)\n"
     ]
    }
   ],
   "source": [
    "!pip3 install flask\n",
    "!pip3 install pandas\n",
    "\n",
    "import requests\n",
    "import numpy as np # linear algebra\n",
    "import pandas as pd # data processing, CSV file I/O (e.g. pd.read_csv)"
   ]
  },
  {
   "cell_type": "code",
   "execution_count": 2,
   "metadata": {},
   "outputs": [
    {
     "name": "stdout",
     "output_type": "stream",
     "text": [
      "Warning: Your Kaggle API key is readable by other users on this system! To fix this, you can run 'chmod 600 /home/aman/.kaggle/kaggle.json'\n",
      "covid19-in-india.zip: Skipping, found more recently modified local copy (use --force to force download)\n"
     ]
    }
   ],
   "source": [
    "\n",
    "!kaggle datasets download -d sudalairajkumar/covid19-in-india\n"
   ]
  },
  {
   "cell_type": "code",
   "execution_count": 3,
   "metadata": {},
   "outputs": [],
   "source": [
    "# importing required modules \n",
    "import os\n",
    "\n",
    "file_name_1 = \"covid_19_india.csv\"\n",
    "\n",
    "if(file_name_1 not in os.listdir()):\n",
    "    from zipfile import ZipFile\n",
    "    file_name = \"covid19-in-india.zip\"\n",
    "    with ZipFile(file_name, 'r') as zip: \n",
    "        zip.extract(\"covid_19_india.csv\")\n",
    "        print('Done!') "
   ]
  },
  {
   "cell_type": "code",
   "execution_count": 4,
   "metadata": {},
   "outputs": [],
   "source": [
    "\n",
    "def get_data(state):\n",
    "    dataset = pd.read_csv(\"covid_19_india.csv\")\n",
    "    toSend = dataset[dataset['State/UnionTerritory'] == state][-1:]\n",
    "    work = toSend[['State/UnionTerritory','Cured','Deaths','Confirmed']]\n",
    "    return {'State/UnionTerritory': state,'Cured':int(work['Cured']),'Deaths':int(work['Deaths']),'Active':int((work['Confirmed'] - (work['Cured']+work['Deaths'])))}"
   ]
  },
  {
   "cell_type": "code",
   "execution_count": 5,
   "metadata": {},
   "outputs": [],
   "source": [
    "from flask import Flask, request\n",
    "from werkzeug.wrappers import Request, Response\n",
    "import json\n",
    "\n",
    "app = Flask(__name__)\n",
    "\n",
    "@app.route(\"/report\", methods = ['GET'])\n",
    "def report_for_state():\n",
    "    state = request.args['state']\n",
    "    data = get_data(state)\n",
    "    temp = json.dumps(data)\n",
    "    send = json.loads(temp)\n",
    "    return send\n",
    "\n",
    "@app.route(\"/\")\n",
    "def default():\n",
    "    return \"hi\"\n"
   ]
  },
  {
   "cell_type": "code",
   "execution_count": null,
   "metadata": {},
   "outputs": [
    {
     "name": "stdout",
     "output_type": "stream",
     "text": [
      " * Serving Flask app \"__main__\" (lazy loading)\n",
      " * Environment: production\n",
      "\u001b[31m   WARNING: This is a development server. Do not use it in a production deployment.\u001b[0m\n",
      "\u001b[2m   Use a production WSGI server instead.\u001b[0m\n",
      " * Debug mode: off\n"
     ]
    },
    {
     "name": "stderr",
     "output_type": "stream",
     "text": [
      " * Running on http://127.0.0.1:9097/ (Press CTRL+C to quit)\n",
      "127.0.0.1 - - [30/Jul/2020 21:55:13] \"\u001b[37mGET /report?state=Kerala HTTP/1.1\u001b[0m\" 200 -\n",
      "127.0.0.1 - - [30/Jul/2020 21:55:29] \"\u001b[37mGET /report?state=Delhi HTTP/1.1\u001b[0m\" 200 -\n",
      "127.0.0.1 - - [30/Jul/2020 21:56:45] \"\u001b[37mGET /report?state=Delhi HTTP/1.1\u001b[0m\" 200 -\n"
     ]
    }
   ],
   "source": [
    "\n",
    "if __name__ == \"__main__\":\n",
    "    \n",
    "    from werkzeug.serving import run_simple\n",
    "    app.run(port=9097)"
   ]
  }
 ],
 "metadata": {
  "kernelspec": {
   "display_name": "Python 3",
   "language": "python",
   "name": "python3"
  },
  "language_info": {
   "codemirror_mode": {
    "name": "ipython",
    "version": 3
   },
   "file_extension": ".py",
   "mimetype": "text/x-python",
   "name": "python",
   "nbconvert_exporter": "python",
   "pygments_lexer": "ipython3",
   "version": "3.8.2"
  }
 },
 "nbformat": 4,
 "nbformat_minor": 4
}
